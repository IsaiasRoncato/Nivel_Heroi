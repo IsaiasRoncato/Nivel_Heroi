{
 "cells": [
  {
   "cell_type": "code",
   "execution_count": null,
   "id": "db34ac75",
   "metadata": {},
   "outputs": [],
   "source": [
    "while True:\n",
    "    # Solicitando nome e XP do herói\n",
    "    nome = input(\"Digite o nome do herói (ou 'sair' para encerrar): \")\n",
    "    \n",
    "    # Verificando se deve encerrar o loop\n",
    "    if nome.lower() == 'sair':\n",
    "        print(\"Encerrando o programa...\")\n",
    "        break\n",
    "    \n",
    "    xp = int(input(f\"Digite a quantidade de XP de {nome}: \"))\n",
    "    \n",
    "    # Utilizando uma estrutura de decisão para determinar o nível baseado na XP\n",
    "    if xp < 1000:\n",
    "        nivel = \"Ferro\"\n",
    "    elif 1001 <= xp <= 2000:\n",
    "        nivel = \"Bronze\"\n",
    "    elif 2001 <= xp <= 5000:\n",
    "        nivel = \"Prata\"\n",
    "    elif 5001 <= xp <= 7000:\n",
    "        nivel = \"Ouro\"\n",
    "    elif 7001 <= xp <= 8000:\n",
    "        nivel = \"Platina\"\n",
    "    elif 8001 <= xp <= 9000:\n",
    "        nivel = \"Ascendente\"\n",
    "    elif 9001 <= xp <= 10000:\n",
    "        nivel = \"Imortal\"\n",
    "    else:\n",
    "        nivel = \"Radiante\"\n",
    "    \n",
    "    # Exibindo a mensagem final para o herói atual\n",
    "    print(f\"O Herói de nome {nome} está no nível de {nivel}\\n\")"
   ]
  }
 ],
 "metadata": {
  "kernelspec": {
   "display_name": "Python 3 (ipykernel)",
   "language": "python",
   "name": "python3"
  },
  "language_info": {
   "codemirror_mode": {
    "name": "ipython",
    "version": 3
   },
   "file_extension": ".py",
   "mimetype": "text/x-python",
   "name": "python",
   "nbconvert_exporter": "python",
   "pygments_lexer": "ipython3",
   "version": "3.11.5"
  }
 },
 "nbformat": 4,
 "nbformat_minor": 5
}
